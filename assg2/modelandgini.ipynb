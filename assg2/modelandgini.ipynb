{
 "cells": [
  {
   "cell_type": "code",
   "execution_count": 1,
   "metadata": {},
   "outputs": [],
   "source": [
    "from sklearn.preprocessing import MinMaxScaler\n",
    "from sklearn.tree import DecisionTreeClassifier\n",
    "from sklearn.naive_bayes import MultinomialNB\n",
    "from sklearn.naive_bayes import BernoulliNB\n",
    "from sklearn.naive_bayes import GaussianNB"
   ]
  },
  {
   "cell_type": "code",
   "execution_count": 2,
   "metadata": {},
   "outputs": [],
   "source": [
    "def normalizedata(X_train):\n",
    "    scaler = MinMaxScaler()\n",
    "    scaler.fit(X_train)\n",
    "    X_train = scaler.transform(X_train)\n",
    "    return X_train"
   ]
  },
  {
   "cell_type": "code",
   "execution_count": 3,
   "metadata": {},
   "outputs": [],
   "source": [
    "def model1(trdata,tract,tsdata):\n",
    "    model = DecisionTreeClassifier().fit(trdata,tract)\n",
    "    pred= model.predict(tsdata)\n",
    "    return pred\n",
    "\n",
    "def model2(trdata,tract,tsdata):\n",
    "    model = DecisionTreeClassifier(criterion='entropy').fit(trdata,tract)\n",
    "    pred= model.predict(tsdata)\n",
    "    return pred\n",
    "\n",
    "def modeln1(trdata,tract,tsdata):\n",
    "    model = MultinomialNB()\n",
    "    model.fit(trdata,tract)\n",
    "    pred= model.predict(tsdata)\n",
    "    return pred\n",
    "def modeln2(trdata,tract,tsdata):\n",
    "    model = BernoulliNB()\n",
    "    model.fit(trdata,tract)\n",
    "    pred= model.predict(tsdata)\n",
    "    return pred\n",
    "def modeln3(trdata,tract,tsdata):\n",
    "    model = GaussianNB()\n",
    "    model.fit(trdata,tract)\n",
    "    pred= model.predict(tsdata)\n",
    "    return pred"
   ]
  },
  {
   "cell_type": "code",
   "execution_count": 4,
   "metadata": {},
   "outputs": [],
   "source": [
    "import numpy as np\n",
    "from sklearn.model_selection import KFold\n",
    "kf = KFold(10)"
   ]
  },
  {
   "cell_type": "code",
   "execution_count": 5,
   "metadata": {},
   "outputs": [
    {
     "name": "stdout",
     "output_type": "stream",
     "text": [
      "1\n",
      "2\n",
      "3\n",
      "4\n",
      "5\n",
      "6\n",
      "7\n",
      "8\n",
      "9\n",
      "10\n",
      "11\n",
      "12\n",
      "13\n",
      "14\n",
      "15\n",
      "16\n",
      "17\n",
      "18\n",
      "19\n",
      "20\n",
      "21\n",
      "22\n",
      "23\n",
      "24\n",
      "25\n",
      "26\n",
      "27\n",
      "28\n",
      "29\n",
      "30\n",
      "31\n",
      "32\n",
      "33\n",
      "34\n",
      "35\n",
      "36\n",
      "37\n",
      "38\n",
      "39\n",
      "40\n",
      "41\n",
      "42\n",
      "43\n",
      "44\n",
      "45\n",
      "46\n",
      "47\n",
      "48\n",
      "49\n",
      "50\n",
      "51\n",
      "52\n",
      "53\n",
      "54\n",
      "55\n",
      "56\n"
     ]
    }
   ],
   "source": [
    "for i in range(1,57):\n",
    "    print(i)\n",
    "    fname='E:/matlab/data1/data/'+str(i)+'.csv'\n",
    "    data=np.genfromtxt(fname,delimiter=',')\n",
    "    data[:,0:-1]=normalizedata(data[:,0:-1])\n",
    "    in1=np.where(data[:,-1]>0)\n",
    "    data[in1[0],-1]=1\n",
    "    predvalue=np.zeros((np.shape(data)[0],6))\n",
    "    for train_index, test_index in kf.split(data):\n",
    "        trdata=data[train_index,0:-1]\n",
    "        tsdata=data[test_index,0:-1]\n",
    "        tract=data[train_index,-1]\n",
    "        tsact=data[test_index,-1]\n",
    "        predvalue[test_index,0]=model1(trdata,tract,tsdata)\n",
    "        predvalue[test_index,1]=model2(trdata,tract,tsdata)\n",
    "        predvalue[test_index,2]=modeln1(trdata,tract,tsdata)\n",
    "        predvalue[test_index,3]=modeln3(trdata,tract,tsdata)\n",
    "        predvalue[test_index,4]=modeln3(trdata,tract,tsdata)\n",
    "        predvalue[test_index,5]=tsact\n",
    "    fname='C:/users/lov/Desktop/tsdata/'+str(i)+'one.csv'    \n",
    "    np.savetxt(fname,predvalue, delimiter=',', fmt='%f')  "
   ]
  },
  {
   "cell_type": "code",
   "execution_count": 6,
   "metadata": {},
   "outputs": [],
   "source": [
    "from sklearn.metrics import (\n",
    "    f1_score, precision_score, recall_score,accuracy_score\n",
    "    )"
   ]
  },
  {
   "cell_type": "code",
   "execution_count": 7,
   "metadata": {},
   "outputs": [],
   "source": [
    "fileloc='C:/users/lov/Desktop/tsdata/'\n",
    "fval=np.zeros((56,5))\n",
    "acv=np.zeros((56,5))\n",
    "for i in range(0,56):\n",
    "    fname= fileloc+str(i+1)+'one.csv'\n",
    "    data1=np.genfromtxt(fname,delimiter=',')\n",
    "    y1=data1[:,-1]\n",
    "    for j in range(0,5):\n",
    "         fval[i,j]=f1_score(y1, data1[:,j])\n",
    "         acv[i,j]=accuracy_score(y1, data1[:,j])   \n",
    "fname=fileloc+'acc.csv'    \n",
    "np.savetxt(fname,acv, delimiter=',', fmt='%f')      \n",
    "fname=fileloc+'fmea.csv'    \n",
    "np.savetxt(fname,fval, delimiter=',', fmt='%f')  "
   ]
  },
  {
   "cell_type": "code",
   "execution_count": 1,
   "metadata": {},
   "outputs": [],
   "source": [
    "import numpy as np\n",
    "x=[1,3,4,5,6,7,8]\n",
    "x=np.array(x)\n",
    "in1=np.where(x==4)"
   ]
  },
  {
   "cell_type": "code",
   "execution_count": 3,
   "metadata": {},
   "outputs": [
    {
     "name": "stdout",
     "output_type": "stream",
     "text": [
      "(array([2], dtype=int64),)\n"
     ]
    }
   ],
   "source": [
    "print((in1))"
   ]
  },
  {
   "cell_type": "code",
   "execution_count": 12,
   "metadata": {},
   "outputs": [],
   "source": [
    "def nos(c,in1):\n",
    "    in2=np.where(c[in1[0]]==0)\n",
    "    in3=np.where(c[in1[0]]>0)\n",
    "    return len(in2[0]),len(in3[0])\n",
    "\n",
    "def giniscal(f,c):\n",
    "    mf=np.median(f)\n",
    "    in1=np.where(f<=mf)\n",
    "    in2=np.where(f>mf)\n",
    "    n00,n01=nos(c,in1)\n",
    "    n10,n11=nos(c,in2)\n",
    "    if (n00==0 or n01==0):\n",
    "        p00=0.5\n",
    "        p01=0.5\n",
    "    else:\n",
    "        p00=n00/(n00+n01)\n",
    "        p01=n01/(n00+n01)\n",
    "    if(n10==0 or n11==0):\n",
    "        p10=0.5\n",
    "        p11=0.5\n",
    "    else:\n",
    "        p10=n10/(n10+n11)\n",
    "        p11=n11/(n10+n11)\n",
    "    gl=1-p00*p00-p01*p01;\n",
    "    gr=1-p10*p10-p11*p11;\n",
    "    fgs=len(in1[0])/(len(in1[0])+len(in2[0]))*gl+len(in2[0])/(len(in1[0])+len(in2[0]))*gr\n",
    "    return fgs"
   ]
  },
  {
   "cell_type": "code",
   "execution_count": 13,
   "metadata": {},
   "outputs": [
    {
     "name": "stdout",
     "output_type": "stream",
     "text": [
      "1\n",
      "2\n",
      "3\n",
      "4\n",
      "5\n",
      "6\n",
      "7\n",
      "8\n",
      "9\n",
      "10\n",
      "11\n",
      "12\n",
      "13\n",
      "14\n",
      "15\n",
      "16\n",
      "17\n",
      "18\n",
      "19\n",
      "20\n",
      "21\n",
      "22\n",
      "23\n",
      "24\n",
      "25\n",
      "26\n",
      "27\n",
      "28\n",
      "29\n",
      "30\n",
      "31\n",
      "32\n",
      "33\n",
      "34\n",
      "35\n",
      "36\n",
      "37\n",
      "38\n",
      "39\n",
      "40\n",
      "41\n",
      "42\n",
      "43\n",
      "44\n",
      "45\n",
      "46\n",
      "47\n",
      "48\n",
      "49\n",
      "50\n",
      "51\n",
      "52\n",
      "53\n",
      "54\n",
      "55\n",
      "56\n"
     ]
    }
   ],
   "source": [
    "gsv=np.zeros((56,20))\n",
    "fileloc='C:/users/lov/Desktop/tsdata/'\n",
    "for i in range(1,57):\n",
    "    print(i)\n",
    "    fname='E:/matlab/data1/data/'+str(i)+'.csv'\n",
    "    data=np.genfromtxt(fname,delimiter=',')\n",
    "    for j in range(0,20):\n",
    "        gsv[i-1,j]=giniscal(data[:,j],data[:,-1])\n",
    "fname=fileloc+'gini.csv'    \n",
    "np.savetxt(fname,gsv, delimiter=',', fmt='%f')      "
   ]
  },
  {
   "cell_type": "code",
   "execution_count": 14,
   "metadata": {},
   "outputs": [
    {
     "data": {
      "text/plain": [
       "array([[0.23387013, 0.26861538, 0.26701525, ..., 0.25558628, 0.25129334,\n",
       "        0.25558628],\n",
       "       [0.34631473, 0.33667824, 0.34528495, ..., 0.34616841, 0.34743088,\n",
       "        0.34743088],\n",
       "       [0.18033687, 0.19064367, 0.19334279, ..., 0.18494667, 0.19269253,\n",
       "        0.1920891 ],\n",
       "       ...,\n",
       "       [0.37894173, 0.3265425 , 0.37578662, ..., 0.33439014, 0.3480333 ,\n",
       "        0.35561683],\n",
       "       [0.4746702 , 0.49210845, 0.49483269, ..., 0.49260783, 0.49873737,\n",
       "        0.49874257],\n",
       "       [0.36256158, 0.36612576, 0.49464923, ..., 0.36256158, 0.42528736,\n",
       "        0.39787798]])"
      ]
     },
     "execution_count": 14,
     "metadata": {},
     "output_type": "execute_result"
    }
   ],
   "source": [
    "gsv"
   ]
  },
  {
   "cell_type": "code",
   "execution_count": null,
   "metadata": {},
   "outputs": [],
   "source": []
  }
 ],
 "metadata": {
  "kernelspec": {
   "display_name": "Python 3",
   "language": "python",
   "name": "python3"
  },
  "language_info": {
   "codemirror_mode": {
    "name": "ipython",
    "version": 3
   },
   "file_extension": ".py",
   "mimetype": "text/x-python",
   "name": "python",
   "nbconvert_exporter": "python",
   "pygments_lexer": "ipython3",
   "version": "3.9.2"
  }
 },
 "nbformat": 4,
 "nbformat_minor": 4
}
